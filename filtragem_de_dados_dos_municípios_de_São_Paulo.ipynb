{
  "nbformat": 4,
  "nbformat_minor": 0,
  "metadata": {
    "colab": {
      "provenance": [],
      "include_colab_link": true
    },
    "kernelspec": {
      "name": "python3",
      "display_name": "Python 3"
    },
    "language_info": {
      "name": "python"
    }
  },
  "cells": [
    {
      "cell_type": "markdown",
      "metadata": {
        "id": "view-in-github",
        "colab_type": "text"
      },
      "source": [
        "<a href=\"https://colab.research.google.com/github/mariaflbss/API-NEXUS/blob/main/filtragem_de_dados_dos_munic%C3%ADpios_de_S%C3%A3o_Paulo.ipynb\" target=\"_parent\"><img src=\"https://colab.research.google.com/assets/colab-badge.svg\" alt=\"Open In Colab\"/></a>"
      ]
    },
    {
      "cell_type": "code",
      "execution_count": null,
      "metadata": {
        "id": "eWUyXMJe8tFW"
      },
      "outputs": [],
      "source": [
        "#importação das bibliotecas\n",
        "from google.colab import drive\n",
        "import pandas as pd"
      ]
    },
    {
      "cell_type": "code",
      "source": [
        "#Mount no Gdrive do diretório onde estarão os arquivos e a base de dados\n",
        "drive.mount('/content/drive')"
      ],
      "metadata": {
        "id": "VYPulIAYJI8n",
        "colab": {
          "base_uri": "https://localhost:8080/"
        },
        "outputId": "daebd4e9-c4e7-454d-a86e-c123c4ecf247"
      },
      "execution_count": null,
      "outputs": [
        {
          "output_type": "stream",
          "name": "stdout",
          "text": [
            "Mounted at /content/drive\n"
          ]
        }
      ]
    },
    {
      "cell_type": "code",
      "source": [
        "#cd muda o diretório de trabalho para a pasta onde a base de dados se  encontra\n",
        "#É necessário criar um atalho com a pasta do projeto no Drive para o diretório especificado durante o Mount\n",
        "%cd \"/content/drive/MyDrive/Colab Notebooks/API1S\""
      ],
      "metadata": {
        "id": "iiIymgCQJR_A",
        "colab": {
          "base_uri": "https://localhost:8080/"
        },
        "outputId": "ee0e88f9-96d0-4189-b76c-1753f2de0ce7"
      },
      "execution_count": null,
      "outputs": [
        {
          "output_type": "stream",
          "name": "stdout",
          "text": [
            "/content/drive/MyDrive/Colab Notebooks/API1S\n"
          ]
        }
      ]
    },
    {
      "cell_type": "code",
      "source": [
        "#declaração de variáveis usadas num looping para que não seja necessário ler os arquivos .csv um a um\n",
        "#a cada iteração do while o nome do arquivo muda para o ano seguinte(de 2019 a 2014) e o .csv é adicionado a lista_arquivos\n",
        "ano = 2019\n",
        "lista_arquivos = []\n",
        "\n",
        "while ano <= 2024:\n",
        "  df = pd.read_csv(f\"EXP_{ano}_MUN.csv\", sep=\";\", encoding=\"latin1\",on_bad_lines = \"skip\", usecols='''CO_MES SH4 CO_PAIS SG_UF_MUN CO_MUN KG_LIQUIDO VL_FOB'''.split())\n",
        "  lista_arquivos.append(df)\n",
        "  ano += 1\n",
        "\n",
        "#leitura das tabelas de correspondência de códigos e nomes do município e código SH\n",
        "#colunas renomeadas para ficarem iguais nos dois arquivos\n",
        "df_mun = pd.read_csv(\"UF_MUN.csv\", sep = \";\", encoding=\"ISO-8859-1\", on_bad_lines=\"skip\", usecols='''CO_MUN_GEO NO_MUN_MIN SG_UF'''.split())\n",
        "df_mun = df_mun.rename(columns= {\"CO_MUN_GEO\" : \"CO_MUN\", \"SG_UF\": \"SG_UF_MUN\"})\n",
        "\n",
        "df_mun = df_mun[df_mun[\"SG_UF_MUN\"] == \"SP\"]\n",
        "\n",
        "df_sh4 = pd.read_csv(\"NCM_SH.csv\", sep = \";\", encoding=\"ISO-8859-1\", on_bad_lines=\"skip\", usecols='''CO_SH4 NO_SH4_POR'''.split())\n",
        "df_sh4 = df_sh4.rename(columns= {\"CO_SH4\" : \"SH4\"})\n",
        "\n",
        "#for percorre a lista de arquivos e cria uma nova coluna \"VALOR AGREGADO\" que recebe o resultado da conta para valor agregado\n",
        "# > 0 evita que haja divisão por 0\n",
        "#carga_num agrupa 3 colunas de acordo com o valor agregado e calcula a média\n",
        "# == \"SP\" faz com que apenas o estado de SP seja analizado\n",
        "#top5 sorteia os 5 maiores valores agregados de carga_num\n",
        "for df in lista_arquivos:\n",
        "\n",
        "  #Calcula o Valor agregado evitando divisão por zero\n",
        "  df[\"VALOR_AGREGADO\"] = df[\"VL_FOB\"] / df[\"KG_LIQUIDO\"]\n",
        "\n",
        "  df = df[df[\"KG_LIQUIDO\"] > 0]\n",
        "\n",
        "  #converter o CO_MUN para string em ambos os dataframes\n",
        "  df[\"CO_MUN\"] = df[\"CO_MUN\"].astype(str)\n",
        "  df_mun[\"CO_MUN\"] = df_mun[\"CO_MUN\"].astype(str)\n",
        "\n",
        "  df[\"SH4\"] = df[\"SH4\"].astype(str)\n",
        "  df_sh4[\"SH4\"] = df_sh4[\"SH4\"].astype(str)\n",
        "\n",
        "  #para substituir o código do município pelo nome corretamente\n",
        "  df = df[df[\"SG_UF_MUN\"] == \"SP\"]\n",
        "  df = df.merge(df_mun, how=\"inner\", on=\"CO_MUN\")\n",
        "\n",
        "  df = df.merge(df_sh4, how=\"inner\", on=\"SH4\")\n",
        "  carga_mun = df.groupby([\"NO_MUN_MIN\", \"SG_UF_MUN_x\", \"NO_SH4_POR\"])['VALOR_AGREGADO'].mean().reset_index()\n",
        "\n",
        "  top5 = carga_mun.sort_values(by=\"VALOR_AGREGADO\", ascending=False).head(5)\n",
        "  print(top5)\n"
      ],
      "metadata": {
        "id": "wFFKs00urXg0",
        "colab": {
          "base_uri": "https://localhost:8080/"
        },
        "outputId": "26995be0-1da8-4f48-fdad-8e99199f5ba1"
      },
      "execution_count": null,
      "outputs": [
        {
          "output_type": "stream",
          "name": "stderr",
          "text": [
            "<ipython-input-5-d765204af71e>:34: SettingWithCopyWarning: \n",
            "A value is trying to be set on a copy of a slice from a DataFrame.\n",
            "Try using .loc[row_indexer,col_indexer] = value instead\n",
            "\n",
            "See the caveats in the documentation: https://pandas.pydata.org/pandas-docs/stable/user_guide/indexing.html#returning-a-view-versus-a-copy\n",
            "  df[\"CO_MUN\"] = df[\"CO_MUN\"].astype(str)\n",
            "<ipython-input-5-d765204af71e>:37: SettingWithCopyWarning: \n",
            "A value is trying to be set on a copy of a slice from a DataFrame.\n",
            "Try using .loc[row_indexer,col_indexer] = value instead\n",
            "\n",
            "See the caveats in the documentation: https://pandas.pydata.org/pandas-docs/stable/user_guide/indexing.html#returning-a-view-versus-a-copy\n",
            "  df[\"SH4\"] = df[\"SH4\"].astype(str)\n"
          ]
        },
        {
          "output_type": "stream",
          "name": "stdout",
          "text": [
            "      NO_MUN_MIN SG_UF_MUN_x  \\\n",
            "8624     Itapevi          SP   \n",
            "21141  São Paulo          SP   \n",
            "10176     Jarinu          SP   \n",
            "1922     Barueri          SP   \n",
            "1728     Barueri          SP   \n",
            "\n",
            "                                              NO_SH4_POR  VALOR_AGREGADO  \n",
            "8624                              Tiocompostos orgânicos   278200.000000  \n",
            "21141  Obras cartográficas de qualquer espécie, inclu...   175000.000000  \n",
            "10176  Elementos químicos radioactivos e isótopos rad...    98865.000000  \n",
            "1922   Âmbar-cinzento, castóreo, algália e almíscar; ...    50814.150000  \n",
            "1728   Ouro (incluído o ouro platinado), em formas br...    49881.730769  \n"
          ]
        },
        {
          "output_type": "stream",
          "name": "stderr",
          "text": [
            "<ipython-input-5-d765204af71e>:34: SettingWithCopyWarning: \n",
            "A value is trying to be set on a copy of a slice from a DataFrame.\n",
            "Try using .loc[row_indexer,col_indexer] = value instead\n",
            "\n",
            "See the caveats in the documentation: https://pandas.pydata.org/pandas-docs/stable/user_guide/indexing.html#returning-a-view-versus-a-copy\n",
            "  df[\"CO_MUN\"] = df[\"CO_MUN\"].astype(str)\n",
            "<ipython-input-5-d765204af71e>:37: SettingWithCopyWarning: \n",
            "A value is trying to be set on a copy of a slice from a DataFrame.\n",
            "Try using .loc[row_indexer,col_indexer] = value instead\n",
            "\n",
            "See the caveats in the documentation: https://pandas.pydata.org/pandas-docs/stable/user_guide/indexing.html#returning-a-view-versus-a-copy\n",
            "  df[\"SH4\"] = df[\"SH4\"].astype(str)\n"
          ]
        },
        {
          "output_type": "stream",
          "name": "stdout",
          "text": [
            "           NO_MUN_MIN SG_UF_MUN_x  \\\n",
            "10013          Jarinu          SP   \n",
            "15508       Rio Claro          SP   \n",
            "6502   Gavião Peixoto          SP   \n",
            "4649            Cotia          SP   \n",
            "5526          Diadema          SP   \n",
            "\n",
            "                                              NO_SH4_POR  VALOR_AGREGADO  \n",
            "10013  Elementos químicos radioactivos e isótopos rad...   129710.000000  \n",
            "15508  Platina, em formas brutas ou semimanufacturada...   110908.666667  \n",
            "6502   Binóculos, lunetas, incluídas as astronómicas,...   101287.000000  \n",
            "4649   Elementos químicos radioactivos e isótopos rad...   100065.000000  \n",
            "5526   Platina, em formas brutas ou semimanufacturada...    63995.000000  \n"
          ]
        },
        {
          "output_type": "stream",
          "name": "stderr",
          "text": [
            "<ipython-input-5-d765204af71e>:34: SettingWithCopyWarning: \n",
            "A value is trying to be set on a copy of a slice from a DataFrame.\n",
            "Try using .loc[row_indexer,col_indexer] = value instead\n",
            "\n",
            "See the caveats in the documentation: https://pandas.pydata.org/pandas-docs/stable/user_guide/indexing.html#returning-a-view-versus-a-copy\n",
            "  df[\"CO_MUN\"] = df[\"CO_MUN\"].astype(str)\n",
            "<ipython-input-5-d765204af71e>:37: SettingWithCopyWarning: \n",
            "A value is trying to be set on a copy of a slice from a DataFrame.\n",
            "Try using .loc[row_indexer,col_indexer] = value instead\n",
            "\n",
            "See the caveats in the documentation: https://pandas.pydata.org/pandas-docs/stable/user_guide/indexing.html#returning-a-view-versus-a-copy\n",
            "  df[\"SH4\"] = df[\"SH4\"].astype(str)\n"
          ]
        },
        {
          "output_type": "stream",
          "name": "stdout",
          "text": [
            "      NO_MUN_MIN SG_UF_MUN_x  \\\n",
            "5242       Cotia          SP   \n",
            "3434    Caieiras          SP   \n",
            "10175    Jacareí          SP   \n",
            "8299    Ibitinga          SP   \n",
            "228    Americana          SP   \n",
            "\n",
            "                                              NO_SH4_POR  VALOR_AGREGADO  \n",
            "5242   Outros veículos aéreos (por exemplo: helicópte...   260000.000000  \n",
            "3434   Platina, em formas brutas ou semimanufacturada...   170321.000000  \n",
            "10175  Circuitos integrados e microconjuntos electrón...   148848.469388  \n",
            "8299   Produtos de origem animal, não especificados n...   125889.500000  \n",
            "228    Outras obras de metais preciosos ou de metais ...    85160.800553  \n"
          ]
        },
        {
          "output_type": "stream",
          "name": "stderr",
          "text": [
            "<ipython-input-5-d765204af71e>:34: SettingWithCopyWarning: \n",
            "A value is trying to be set on a copy of a slice from a DataFrame.\n",
            "Try using .loc[row_indexer,col_indexer] = value instead\n",
            "\n",
            "See the caveats in the documentation: https://pandas.pydata.org/pandas-docs/stable/user_guide/indexing.html#returning-a-view-versus-a-copy\n",
            "  df[\"CO_MUN\"] = df[\"CO_MUN\"].astype(str)\n",
            "<ipython-input-5-d765204af71e>:37: SettingWithCopyWarning: \n",
            "A value is trying to be set on a copy of a slice from a DataFrame.\n",
            "Try using .loc[row_indexer,col_indexer] = value instead\n",
            "\n",
            "See the caveats in the documentation: https://pandas.pydata.org/pandas-docs/stable/user_guide/indexing.html#returning-a-view-versus-a-copy\n",
            "  df[\"SH4\"] = df[\"SH4\"].astype(str)\n"
          ]
        },
        {
          "output_type": "stream",
          "name": "stdout",
          "text": [
            "      NO_MUN_MIN SG_UF_MUN_x  \\\n",
            "22909  São Roque          SP   \n",
            "8431    Ibitinga          SP   \n",
            "22834  São Roque          SP   \n",
            "12938   Mirassol          SP   \n",
            "10830     Jarinu          SP   \n",
            "\n",
            "                                              NO_SH4_POR  VALOR_AGREGADO  \n",
            "22909  Torneiras, válvulas (incluídas as redutoras de...   200946.000000  \n",
            "8431   Produtos de origem animal, não especificados n...   190195.000000  \n",
            "22834  Bússolas, incluídas as agulhas de marear; outr...   153040.526786  \n",
            "12938  Artefactos de joalharia e suas partes, de meta...   132175.000000  \n",
            "10830  Elementos químicos radioactivos e isótopos rad...   119360.000000  \n"
          ]
        },
        {
          "output_type": "stream",
          "name": "stderr",
          "text": [
            "<ipython-input-5-d765204af71e>:34: SettingWithCopyWarning: \n",
            "A value is trying to be set on a copy of a slice from a DataFrame.\n",
            "Try using .loc[row_indexer,col_indexer] = value instead\n",
            "\n",
            "See the caveats in the documentation: https://pandas.pydata.org/pandas-docs/stable/user_guide/indexing.html#returning-a-view-versus-a-copy\n",
            "  df[\"CO_MUN\"] = df[\"CO_MUN\"].astype(str)\n",
            "<ipython-input-5-d765204af71e>:37: SettingWithCopyWarning: \n",
            "A value is trying to be set on a copy of a slice from a DataFrame.\n",
            "Try using .loc[row_indexer,col_indexer] = value instead\n",
            "\n",
            "See the caveats in the documentation: https://pandas.pydata.org/pandas-docs/stable/user_guide/indexing.html#returning-a-view-versus-a-copy\n",
            "  df[\"SH4\"] = df[\"SH4\"].astype(str)\n"
          ]
        },
        {
          "output_type": "stream",
          "name": "stdout",
          "text": [
            "        NO_MUN_MIN SG_UF_MUN_x  \\\n",
            "15729  Pirapozinho          SP   \n",
            "1672      Barretos          SP   \n",
            "23096    São Roque          SP   \n",
            "466      Andradina          SP   \n",
            "1683      Barretos          SP   \n",
            "\n",
            "                                              NO_SH4_POR  VALOR_AGREGADO  \n",
            "15729  Âmbar-cinzento, castóreo, algália e almíscar; ...   179917.000000  \n",
            "1672   Produtos de origem animal, não especificados n...   161231.000000  \n",
            "23096  Quadros, painéis, consolas, cabinas, armários ...   153299.000000  \n",
            "466    Âmbar-cinzento, castóreo, algália e almíscar; ...   136800.000000  \n",
            "1683   Âmbar-cinzento, castóreo, algália e almíscar; ...   125492.290905  \n"
          ]
        },
        {
          "output_type": "stream",
          "name": "stderr",
          "text": [
            "<ipython-input-5-d765204af71e>:34: SettingWithCopyWarning: \n",
            "A value is trying to be set on a copy of a slice from a DataFrame.\n",
            "Try using .loc[row_indexer,col_indexer] = value instead\n",
            "\n",
            "See the caveats in the documentation: https://pandas.pydata.org/pandas-docs/stable/user_guide/indexing.html#returning-a-view-versus-a-copy\n",
            "  df[\"CO_MUN\"] = df[\"CO_MUN\"].astype(str)\n",
            "<ipython-input-5-d765204af71e>:37: SettingWithCopyWarning: \n",
            "A value is trying to be set on a copy of a slice from a DataFrame.\n",
            "Try using .loc[row_indexer,col_indexer] = value instead\n",
            "\n",
            "See the caveats in the documentation: https://pandas.pydata.org/pandas-docs/stable/user_guide/indexing.html#returning-a-view-versus-a-copy\n",
            "  df[\"SH4\"] = df[\"SH4\"].astype(str)\n"
          ]
        },
        {
          "output_type": "stream",
          "name": "stdout",
          "text": [
            "        NO_MUN_MIN SG_UF_MUN_x  \\\n",
            "16103  Pirapozinho          SP   \n",
            "23588    São Roque          SP   \n",
            "22817    São Paulo          SP   \n",
            "1726      Barretos          SP   \n",
            "23510    São Roque          SP   \n",
            "\n",
            "                                              NO_SH4_POR  VALOR_AGREGADO  \n",
            "16103  Âmbar-cinzento, castóreo, algália e almíscar; ...   226371.750000  \n",
            "23588  Partes reconhecíveis como exclusiva ou princip...   193207.333333  \n",
            "22817                                   Energia elétrica   178894.634951  \n",
            "1726   Âmbar-cinzento, castóreo, algália e almíscar; ...   165547.574187  \n",
            "23510  Bússolas, incluídas as agulhas de marear; outr...   146504.683333  \n"
          ]
        }
      ]
    },
    {
      "cell_type": "code",
      "source": [],
      "metadata": {
        "id": "86QKEcPwWEQ0"
      },
      "execution_count": null,
      "outputs": []
    }
  ]
}