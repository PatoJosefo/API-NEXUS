{
  "cells": [
    {
      "cell_type": "markdown",
      "metadata": {
        "id": "view-in-github",
        "colab_type": "text"
      },
      "source": [
        "<a href=\"https://colab.research.google.com/github/PatoJosefo/API-NEXUS/blob/main/src/colab_comercio_exterior_sp.ipynb\" target=\"_parent\"><img src=\"https://colab.research.google.com/assets/colab-badge.svg\" alt=\"Open In Colab\"/></a>"
      ]
    },
    {
      "cell_type": "markdown",
      "id": "e34fb61e",
      "metadata": {
        "id": "e34fb61e"
      },
      "source": [
        "## clonando projeto"
      ]
    },
    {
      "cell_type": "code",
      "source": [
        "!rm -rf API-NEXUS"
      ],
      "metadata": {
        "id": "bjLjT522kiY1"
      },
      "id": "bjLjT522kiY1",
      "execution_count": null,
      "outputs": []
    },
    {
      "cell_type": "code",
      "execution_count": null,
      "id": "a17f3be1",
      "metadata": {
        "id": "a17f3be1",
        "collapsed": true
      },
      "outputs": [],
      "source": [
        "!git clone https://github.com/PatoJosefo/API-NEXUS.git"
      ]
    },
    {
      "cell_type": "code",
      "execution_count": null,
      "id": "bf63bea3",
      "metadata": {
        "id": "bf63bea3"
      },
      "outputs": [],
      "source": [
        "import sys\n",
        "sys.path.append('API-NEXUS/src')"
      ]
    },
    {
      "cell_type": "markdown",
      "id": "76ee3d73",
      "metadata": {
        "id": "76ee3d73"
      },
      "source": [
        "## Lendo arquivos"
      ]
    },
    {
      "cell_type": "code",
      "execution_count": null,
      "id": "6ea11c4f",
      "metadata": {
        "id": "6ea11c4f"
      },
      "outputs": [],
      "source": [
        "import backend.leitura_dataset as leitura\n",
        "leitura.autenticacao_google()\n",
        "data_sets, util_data = leitura.pegar_dados()"
      ]
    },
    {
      "cell_type": "markdown",
      "source": [
        "## Analise (filtro)"
      ],
      "metadata": {
        "id": "BE2-XMJSrL42"
      },
      "id": "BE2-XMJSrL42"
    },
    {
      "cell_type": "code",
      "source": [
        "#ajustar filtros\n",
        "#adicionar os gráficos"
      ],
      "metadata": {
        "id": "1-qpiLh9ZklS"
      },
      "id": "1-qpiLh9ZklS",
      "execution_count": null,
      "outputs": []
    },
    {
      "cell_type": "code",
      "execution_count": null,
      "id": "11d1cad2",
      "metadata": {
        "id": "11d1cad2"
      },
      "outputs": [],
      "source": [
        "from IPython.display import display, clear_output\n",
        "\n",
        "import backend.analise as analise\n",
        "clear_output(wait=True)\n",
        "\n",
        "def button_fn(_):\n",
        "  with output:\n",
        "      f_df = analise.realizar_analise(\n",
        "          data_sets,\n",
        "          util_data[\"df_municipios\"],\n",
        "          util_data[\"df_ncm_sh\"],\n",
        "          ano_dropdown.value,\n",
        "          atividade_dropdown.value,\n",
        "          tipo_dropdown.value,\n",
        "          mes_dropdown.value,\n",
        "          mun_dropdown.value,\n",
        "      )\n",
        "      display(f_df)"
      ]
    },
    {
      "cell_type": "markdown",
      "id": "2ec9abe6",
      "metadata": {
        "id": "2ec9abe6"
      },
      "source": [
        "## mostrar dropdown"
      ]
    },
    {
      "cell_type": "code",
      "execution_count": null,
      "id": "110b61ae",
      "metadata": {
        "id": "110b61ae",
        "collapsed": true
      },
      "outputs": [],
      "source": [
        "import ipywidgets as widgets\n",
        "from IPython.display import display, clear_output\n",
        "\n",
        "\n",
        "#dropdown seleção por ano\n",
        "ano_dropdown = widgets.Dropdown(\n",
        "    options=list(data_sets.keys()),\n",
        "    description='Ano:*',\n",
        "    value = list(data_sets.keys())[0],\n",
        "    disabled=False,\n",
        ")\n",
        "\n",
        "#dropdown seleção por atividade\n",
        "atividade_dropdown = widgets.Dropdown(\n",
        "    options=['Importação', 'Exportação'],\n",
        "    description='Atividade:*',\n",
        "    value = 'Importação',\n",
        "    disabled=False,\n",
        ")\n",
        "\n",
        "#dropdown seleção por tipo\n",
        "tipo_dropdown = widgets.Dropdown(\n",
        "    options=['Valor Agregado', 'SH4', 'KG_LIQUIDO', 'Valor FOB'],\n",
        "    description='Filtrar por:* ',\n",
        "    value = 'Valor Agregado',\n",
        "    disabled=False,\n",
        ")\n",
        "mes_dropdown = widgets.Dropdown(\n",
        "    options=[('Não selecionar', None), ('Janeiro', 1), ('Fevereiro', 2), ('Março', 3), ('Abril', 4),\n",
        "             ('Maio', 5), ('Junho', 6), ('Julho', 7), ('Agosto', 8),\n",
        "             ('Setembro', 9), ('Outubro', 10), ('Novembro', 11), ('Dezembro', 12)],\n",
        "    description='Mês:',\n",
        "    value=1,\n",
        "    disabled=False,\n",
        ")\n",
        "\n",
        "#dropdown seleção por município\n",
        "mun_dropdown = widgets.Dropdown(\n",
        "    options=util_data[\"df_mun_nomes\"],\n",
        "    description='Município:*',\n",
        "    value = util_data[\"df_mun_nomes\"][0],\n",
        "    disabled=False,\n",
        ")\n",
        "display(ano_dropdown, atividade_dropdown,tipo_dropdown, mes_dropdown, mun_dropdown)\n",
        "output = widgets.Output()\n",
        "#display(output)\n",
        "\n",
        "button = widgets.Button(description=\"Realizar Análise\")\n",
        "\n",
        "button.on_click(button_fn)\n",
        "display(output)\n",
        "display(button)"
      ]
    },
    {
      "cell_type": "markdown",
      "source": [
        "## Filtros por NCM"
      ],
      "metadata": {
        "id": "8Nz25zn_enWS"
      },
      "id": "8Nz25zn_enWS"
    },
    {
      "cell_type": "code",
      "source": [
        "#adicionar filtro por estado\n",
        "#ajustar filtro"
      ],
      "metadata": {
        "id": "NOi950F_Y_oY"
      },
      "id": "NOi950F_Y_oY",
      "execution_count": null,
      "outputs": []
    },
    {
      "cell_type": "code",
      "source": [
        "from google.colab import drive\n",
        "import pandas as pd\n",
        "import matplotlib.pyplot as plt\n",
        "import ipywidgets as widgets\n",
        "from IPython.display import display, clear_output\n",
        "import seaborn as sns"
      ],
      "metadata": {
        "id": "ktyHTg_Nesnm"
      },
      "id": "ktyHTg_Nesnm",
      "execution_count": null,
      "outputs": []
    },
    {
      "cell_type": "code",
      "source": [
        "drive.mount('/content/drive')\n",
        "%cd \"/content/drive/MyDrive/Colab Notebooks/API1S/base_dados_por_NCM\""
      ],
      "metadata": {
        "id": "AZBDqtRifEGp"
      },
      "id": "AZBDqtRifEGp",
      "execution_count": null,
      "outputs": []
    },
    {
      "cell_type": "code",
      "source": [
        "df_ncm = pd.read_csv(\"NCM.csv\", sep=\";\", encoding=\"latin1\", on_bad_lines=\"skip\", usecols=\"CO_NCM NO_NCM_POR\".split())\n",
        "df_via = pd.read_csv(\"VIA.csv\", sep=\";\", encoding=\"latin1\", on_bad_lines=\"skip\", usecols=\"CO_VIA NO_VIA\".split())\n",
        "df_pais = pd.read_csv(\"PAIS.csv\", sep=\";\", encoding=\"latin1\", on_bad_lines=\"skip\", usecols=\"CO_PAIS NO_PAIS\".split())\n",
        "\n",
        "arquivos_ncm_exp = []\n",
        "arquivos_ncm_imp = []\n",
        "\n",
        "for ano in range(2019, 2026):\n",
        "    colunas = [\"CO_NCM\", \"SG_UF_NCM\", \"CO_VIA\", \"KG_LIQUIDO\", \"VL_FOB\", \"CO_MES\", \"CO_PAIS\"]\n",
        "\n",
        "    df_exp = pd.read_csv(f\"EXP_{ano}.csv\", sep=\";\", encoding=\"latin1\", on_bad_lines=\"skip\", usecols=colunas)\n",
        "    df_exp = df_exp[df_exp['SG_UF_NCM'] == 'SP']\n",
        "    df_exp = pd.merge(df_exp, df_ncm, on=\"CO_NCM\", how=\"left\")\n",
        "    df_exp = pd.merge(df_exp, df_via, on=\"CO_VIA\", how=\"left\")\n",
        "    df_exp = pd.merge(df_exp, df_pais, on=\"CO_PAIS\", how=\"left\")\n",
        "    arquivos_ncm_exp.append(df_exp)\n",
        "\n",
        "    df_imp = pd.read_csv(f\"IMP_{ano}.csv\", sep=\";\", encoding=\"latin1\", on_bad_lines=\"skip\", usecols=colunas)\n",
        "    df_imp = df_imp[df_imp['SG_UF_NCM'] == 'SP']\n",
        "    df_imp = pd.merge(df_imp, df_ncm, on=\"CO_NCM\", how=\"left\")\n",
        "    df_imp = pd.merge(df_imp, df_via, on=\"CO_VIA\", how=\"left\")\n",
        "    df_imp = pd.merge(df_imp, df_pais, on=\"CO_PAIS\", how=\"left\")\n",
        "    arquivos_ncm_imp.append(df_imp)"
      ],
      "metadata": {
        "id": "SZztz8xGfN1t"
      },
      "id": "SZztz8xGfN1t",
      "execution_count": null,
      "outputs": []
    },
    {
      "cell_type": "code",
      "source": [
        "def formatar_valor_reais(valor_reais):\n",
        "  if valor_reais >= 1_000_000_000:\n",
        "    return f\"R$ {valor_reais / 1_000_000_000:.2f} bi\"\n",
        "  elif valor_reais >= 1_000_000:\n",
        "    return f\"R$ {valor_reais / 1_000_000:.2f} mi\"\n",
        "  elif valor_reais >= 1_000:\n",
        "    return f\"R$ {valor_reais / 1_000:.2f} mil\"\n",
        "  else:\n",
        "    return f\"R$ {valor_reais:.2f}\""
      ],
      "metadata": {
        "id": "GB3Rc1JIfdqP"
      },
      "id": "GB3Rc1JIfdqP",
      "execution_count": null,
      "outputs": []
    },
    {
      "cell_type": "code",
      "source": [
        "def realizar_analise(_):\n",
        "    with output:\n",
        "        clear_output()\n",
        "\n",
        "        ano_selecionado = anos_dropdown.value\n",
        "        atividade_selecionada = atividade_dropdown.value\n",
        "        tipo_selecionado = tipo_dropdown.value\n",
        "        cod_ncm = ncm_input.value\n",
        "\n",
        "        if cod_ncm not in df_ncm['CO_NCM'].values:\n",
        "            print(\"Código NCM inválido.\")\n",
        "            return\n",
        "\n",
        "        indice = df_ncm[df_ncm['CO_NCM'] == cod_ncm].index[0]\n",
        "        ncm_nome = df_ncm.loc[indice, 'NO_NCM_POR']\n",
        "\n",
        "        cod_via = via_dropdown.value\n",
        "        via_nome = next((n for n, v in via_dropdown.options if v == cod_via), \"Todos\")\n",
        "\n",
        "        periodo = periodo_dropdown.value\n",
        "        sem_selecionado = periodo_sem.value if periodo == 'Semestral' else None\n",
        "        cod_mes = meses.value if periodo == 'Mensal' else None\n",
        "        co_pais_filtro = co_pais_selecionado if pais_dropdown.value is not None else None\n",
        "        mes_selecionado = dict(meses.options).get(cod_mes, None)\n",
        "        periodo_selecionado = sem_selecionado if periodo == 'Semestral' else mes_selecionado\n",
        "\n",
        "        indice = ano_selecionado - 2019\n",
        "        arquivo_selecionado = arquivos_ncm_imp[indice] if atividade_selecionada == \"Importação\" else arquivos_ncm_exp[indice]\n",
        "\n",
        "        base_filtro = arquivo_selecionado[arquivo_selecionado['CO_NCM'] == cod_ncm]\n",
        "\n",
        "        if cod_via is not None:\n",
        "            base_filtro = base_filtro[base_filtro['CO_VIA'] == cod_via]\n",
        "\n",
        "        if periodo == \"Mensal\" and cod_mes is not None:\n",
        "            base_filtro = base_filtro[base_filtro['CO_MES'] == cod_mes]\n",
        "        elif periodo == \"Semestral\" and sem_selecionado is not None:\n",
        "            codigo_sem = {'Janeiro-Junho': 1, 'Julho-Dezembro': 2}\n",
        "            lista_sem = list(range(1, 7)) if codigo_sem[sem_selecionado] == 1 else list(range(7, 13))\n",
        "            base_filtro = base_filtro[base_filtro['CO_MES'].isin(lista_sem)]\n",
        "\n",
        "        if co_pais_filtro is not None:\n",
        "            base_filtro = base_filtro[base_filtro['CO_PAIS'] == co_pais_filtro]\n",
        "\n",
        "        match tipo_selecionado:\n",
        "            case \"FOB\":\n",
        "                soma_fob = base_filtro['VL_FOB'].sum()\n",
        "                print(f'\\nMercadoria: {ncm_nome}\\n')\n",
        "                print(f\"Soma de FOB para o NCM {cod_ncm}: {formatar_valor_reais(soma_fob)}\\nVia: {via_nome}\\nPeríodo: {periodo_selecionado or 'Todos'}\\nPaís: {pais_selecionado}\\nAno: {ano_selecionado}\")\n",
        "            case \"Valor Agregado\":\n",
        "                print(f'\\nMercadoria: {ncm_nome}\\n')\n",
        "                base_filtro = base_filtro[base_filtro[\"KG_LIQUIDO\"] > 0]\n",
        "                base_filtro['VALOR_AGREGADO'] = base_filtro['VL_FOB'] / base_filtro['KG_LIQUIDO']\n",
        "                soma_va = base_filtro['VALOR_AGREGADO'].sum()\n",
        "                print(f\"Soma de Valor Agregado para o NCM {cod_ncm}: {formatar_valor_reais(soma_va)}\\nVia: {via_nome}\\nPeríodo: {periodo_selecionado or 'Todos'}\\nPaís: {pais_selecionado}\\nAno: {ano_selecionado}\")\n",
        "            case \"KG líquido\":\n",
        "                print(f'\\nMercadoria: {ncm_nome}\\n')\n",
        "                soma_kgl = base_filtro['KG_LIQUIDO'].sum()\n",
        "                print(f\"Soma de KG Líquido para o NCM {cod_ncm}: {soma_kgl}kg\\nVia: {via_nome}\\nPeríodo: {periodo_selecionado or 'Todos'}\\nPaís: {pais_selecionado}\\nAno: {ano_selecionado}\")\n"
      ],
      "metadata": {
        "id": "89KA5-NCfxgX"
      },
      "id": "89KA5-NCfxgX",
      "execution_count": null,
      "outputs": []
    },
    {
      "cell_type": "code",
      "source": [
        "print('\\nCampos obrigatórios: \\n')\n",
        "\n",
        "ncm_input = widgets.IntText(description=\"Código NCM:\")\n",
        "\n",
        "anos_dropdown = widgets.Dropdown(\n",
        "    options=[2019, 2020, 2021, 2022, 2023, 2024, 2025],\n",
        "    value=2019,\n",
        "    description='Ano:'\n",
        ")\n",
        "\n",
        "atividade_dropdown = widgets.Dropdown(\n",
        "    options=['Exportação', 'Importação'],\n",
        "    value='Exportação',\n",
        "    description='Atividade:'\n",
        ")\n",
        "\n",
        "tipo_dropdown = widgets.Dropdown(\n",
        "    options=['FOB', 'Valor Agregado', 'KG líquido'],\n",
        "    value='FOB',\n",
        "    description='Tipo:'\n",
        ")\n",
        "display(ncm_input,anos_dropdown, atividade_dropdown, tipo_dropdown)\n",
        "\n",
        "print('\\nCampos opcionais: \\n')\n",
        "\n",
        "via_dropdown = widgets.Dropdown(\n",
        "    options=[('Todos', None), ('Entrada/saída Ficta',10), ('Marítima',1), ('Fluvial',2), ('Lacustre',3),\n",
        "             ('Aérea',4), ('Postal',5), ('Ferroviária',6), ('Rodoviária',7), ('Conduto/Rede de Transmissão',8),\n",
        "             ('Meios próprios',9), ('Reboque',13), ('Courier',11), ('Vicinal Fronteiriço',15), ('Dutos',14),\n",
        "             ('Em mãos',12), ('Via não declarada', 0), ('Via desconhecida',99)],\n",
        "    value=None,\n",
        "    description='Via:'\n",
        ")\n",
        "\n",
        "periodo_dropdown = widgets.Dropdown(\n",
        "    options=['Mensal', 'Semestral'],\n",
        "    value=None,\n",
        "    description='Período:'\n",
        ")\n",
        "pais_dropdown = widgets.Dropdown(\n",
        "    options=[(row['NO_PAIS'], row['CO_PAIS']) for _, row in df_pais.iterrows()],\n",
        "    value=None,\n",
        "    description='País:'\n",
        ")\n",
        "display(periodo_dropdown, via_dropdown, pais_dropdown)\n",
        "\n",
        "periodo_sem = widgets.Dropdown(\n",
        "    options=['Janeiro-Junho', 'Julho-Dezembro'],\n",
        "    value='Janeiro-Junho',\n",
        "    description='Semestre:')\n",
        "\n",
        "meses = widgets.Dropdown(\n",
        "    options=[('Janeiro',1),('Fevereiro',2),('Março',3), ('Abril',4), ('Maio',5), ('Junho',6),('Julho',7), ('Agosto',8),\n",
        "             ('Setembro',9), ('Outubro',10), ('Novembro',11), ('Dezembro',12)],\n",
        "    value=1,\n",
        "    description='Mês:'\n",
        ")\n",
        "\n",
        "output_periodo = widgets.Output()\n",
        "\n",
        "def atualizar_periodo(_):\n",
        "    with output_periodo:\n",
        "        clear_output()\n",
        "        if periodo_dropdown.value == 'Semestral':\n",
        "            display(periodo_sem)\n",
        "        elif periodo_dropdown.value == 'Mensal':\n",
        "            display(meses)\n",
        "\n",
        "periodo_dropdown.observe(atualizar_periodo, names='value')\n",
        "display(output_periodo)\n",
        "\n",
        "output = widgets.Output()\n",
        "display(output)\n",
        "\n",
        "pais_selecionado = None\n",
        "co_pais_selecionado = None\n",
        "\n",
        "def atualizar_pais(_):\n",
        "    global pais_selecionado, co_pais_selecionado\n",
        "    if pais_dropdown.value is not None:\n",
        "        pais_selecionado = df_pais[df_pais['CO_PAIS'] == pais_dropdown.value]['NO_PAIS'].values[0]\n",
        "        co_pais_selecionado = pais_dropdown.value\n",
        "    else:\n",
        "        pais_selecionado = None\n",
        "        co_pais_selecionado = None\n",
        "\n",
        "pais_dropdown.observe(atualizar_pais, names='value')\n",
        "\n",
        "output = widgets.Output()\n",
        "\n",
        "button = widgets.Button(description=\"Realizar Análise\")\n",
        "button.on_click(realizar_analise)\n",
        "display(output)\n",
        "display(button)\n",
        "\n",
        "#59113100\n",
        "#85340040\n",
        "#52102910"
      ],
      "metadata": {
        "id": "gpMqO4bHfjsr"
      },
      "id": "gpMqO4bHfjsr",
      "execution_count": null,
      "outputs": []
    },
    {
      "cell_type": "markdown",
      "source": [
        "## Variação Sazonal"
      ],
      "metadata": {
        "id": "UCYe1463rWTs"
      },
      "id": "UCYe1463rWTs"
    },
    {
      "cell_type": "code",
      "source": [
        "#adicionar filtros para geração do gráfico\n",
        "##"
      ],
      "metadata": {
        "id": "2N0TasljZn0h"
      },
      "id": "2N0TasljZn0h",
      "execution_count": null,
      "outputs": []
    },
    {
      "cell_type": "code",
      "source": [
        "%cd \"/content/drive/MyDrive/Colab Notebooks/API1S/base_dados_por_municipio\""
      ],
      "metadata": {
        "id": "lXxhQTnBramM"
      },
      "id": "lXxhQTnBramM",
      "execution_count": null,
      "outputs": []
    },
    {
      "cell_type": "code",
      "source": [
        "ano = 2019\n",
        "lista_arquivos = []\n",
        "while ano <= 2024:\n",
        "    df = pd.read_csv(f\"EXP_{ano}_MUN.csv\", sep=\";\", encoding=\"latin1\",\n",
        "                     on_bad_lines=\"skip\",\n",
        "                     usecols=\"CO_MES SH4 CO_PAIS SG_UF_MUN CO_MUN KG_LIQUIDO VL_FOB\".split())\n",
        "\n",
        "    #adiciona a coluna do ano manualmente (pois não vem no CSV)\n",
        "    df[\"ANO\"] = ano\n",
        "    lista_arquivos.append(df)\n",
        "    ano += 1"
      ],
      "metadata": {
        "id": "lbN6jV0otXw1"
      },
      "id": "lbN6jV0otXw1",
      "execution_count": null,
      "outputs": []
    },
    {
      "cell_type": "code",
      "source": [
        "df_geral = pd.concat(lista_arquivos, ignore_index=True)\n",
        "df_geral = df_geral[df_geral[\"SG_UF_MUN\"] == \"SP\"]\n",
        "\n",
        "#remove linhas com CO_MES nulo ou não numérico\n",
        "df_geral = df_geral[df_geral[\"CO_MES\"].notnull()]\n",
        "df_geral = df_geral[df_geral[\"CO_MES\"].apply(lambda x: str(x).isdigit())]\n",
        "\n",
        "#converte CO_MES para inteiro (representa o número do mês)\n",
        "df_geral[\"MES\"] = df_geral[\"CO_MES\"].astype(int)\n",
        "df_sazonal = df_geral.groupby([\"ANO\", \"MES\"])[\"VL_FOB\"].sum().reset_index()"
      ],
      "metadata": {
        "id": "mm4w8uv3tlhT"
      },
      "id": "mm4w8uv3tlhT",
      "execution_count": null,
      "outputs": []
    },
    {
      "cell_type": "code",
      "source": [
        "plt.figure(figsize=(12, 6))\n",
        "sns.lineplot(data=df_sazonal, x=\"MES\", y=\"VL_FOB\", hue=\"ANO\", marker=\"o\")\n",
        "plt.title(\"Variação sazonal das exportações de São Paulo (2019–2024)\")\n",
        "plt.xlabel(\"Mês\")\n",
        "plt.ylabel(\"Valor FOB exportado\")\n",
        "plt.xticks(range(1, 13)) #meses de 1 a 12\n",
        "plt.grid(True)\n",
        "plt.show()"
      ],
      "metadata": {
        "id": "9kSXZ1t0tq3s"
      },
      "id": "9kSXZ1t0tq3s",
      "execution_count": null,
      "outputs": []
    },
    {
      "cell_type": "code",
      "source": [
        "df_mun = pd.read_csv(\"UF_MUN.csv\", sep=\";\", encoding=\"ISO-8859-1\", on_bad_lines=\"skip\",\n",
        "                     usecols=\"CO_MUN_GEO NO_MUN_MIN SG_UF\".split())\n",
        "\n",
        "df_mun = df_mun.rename(columns={\"CO_MUN_GEO\": \"CO_MUN\", \"SG_UF\": \"SG_UF_MUN\"})\n",
        "df_mun = df_mun[df_mun[\"SG_UF_MUN\"] == \"SP\"]\n",
        "\n",
        "#tabela de códigos SH4 com nomes dos produtos\n",
        "df_sh4 = pd.read_csv(\"NCM_SH.csv\", sep=\";\", encoding=\"ISO-8859-1\", on_bad_lines=\"skip\")\n",
        "df_sh4 = df_sh4[['CO_SH4', 'NO_SH4_POR']]\n",
        "df_sh4 = df_sh4.rename(columns={\"CO_SH4\": \"SH4\"})\n",
        "\n",
        "#evita divisão por zero\n",
        "df_geral = df_geral[df_geral[\"KG_LIQUIDO\"] > 0]\n",
        "\n",
        "#cria nova coluna: valor agregado por kg\n",
        "df_geral[\"VALOR_AGREGADO\"] = df_geral[\"VL_FOB\"] / df_geral[\"KG_LIQUIDO\"]"
      ],
      "metadata": {
        "id": "v90i34tMt30z",
        "collapsed": true
      },
      "id": "v90i34tMt30z",
      "execution_count": null,
      "outputs": []
    },
    {
      "cell_type": "code",
      "source": [
        "df_geral[\"CO_MUN\"] = df_geral[\"CO_MUN\"].astype(str)\n",
        "df_mun[\"CO_MUN\"] = df_mun[\"CO_MUN\"].astype(str)\n",
        "df_geral[\"SH4\"] = df_geral[\"SH4\"].astype(str)\n",
        "df_sh4[\"SH4\"] = df_sh4[\"SH4\"].astype(str)\n",
        "\n",
        "#junta o nome dos municípios\n",
        "df_geral = df_geral.merge(df_mun, how=\"inner\", on=\"CO_MUN\")\n",
        "df_geral = df_geral.merge(df_sh4, how=\"inner\", on=\"SH4\")\n",
        "\n",
        "carga_mun = df_geral.groupby([\"NO_MUN_MIN\", \"NO_SH4_POR\"])['VALOR_AGREGADO'].mean().reset_index()"
      ],
      "metadata": {
        "id": "VokOa7PYt9DI"
      },
      "id": "VokOa7PYt9DI",
      "execution_count": null,
      "outputs": []
    },
    {
      "cell_type": "code",
      "source": [
        "top5 = carga_mun.sort_values(by=\"VALOR_AGREGADO\", ascending=False).head(5)\n",
        "print(\"\\nTop 5 municípios com maior valor agregado por produto (média):\\n\")\n",
        "print(top5)"
      ],
      "metadata": {
        "id": "xzSfgU5XuGiA"
      },
      "id": "xzSfgU5XuGiA",
      "execution_count": null,
      "outputs": []
    },
    {
      "cell_type": "markdown",
      "source": [
        "## Mapeamento Municípios"
      ],
      "metadata": {
        "id": "O0rZH22NuNVc"
      },
      "id": "O0rZH22NuNVc"
    },
    {
      "cell_type": "code",
      "source": [
        "#verificar de que lista pega os dados\n",
        "#UTILIZAR DADOS DA FUNDAÇÃO SEAD\n",
        "\n",
        "#!pip install geopy folium pandas\n",
        "import folium\n",
        "from geopy.geocoders import Nominatim\n",
        "from geopy.extra.rate_limiter import RateLimiter"
      ],
      "metadata": {
        "id": "BO414I-ouT7i"
      },
      "id": "BO414I-ouT7i",
      "execution_count": null,
      "outputs": []
    },
    {
      "cell_type": "code",
      "source": [
        "data = {\n",
        "    \"NO_MUN_MIN\": [\"Itapevi\", \"São Paulo\", \"Jarinu\", \"Barueri\", \"Barueri\", \"Jarinu\", \"Rio Claro\", \"Gavião Peixoto\", \"Cotia\", \"Diadema\", \"Cotia\", \"Caieiras\", \"Jacareí\", \"Ibitinga\", \"Americana\"],\n",
        "    \"SG_UF_MUN_x\": [\"SP\"] * 15,\n",
        "    \"NO_SH4_POR\": [\n",
        "        \"Tiocompostos orgânicos\",\n",
        "        \"Obras cartográficas\",\n",
        "        \"Elementos químicos radioativos\",\n",
        "        \"Âmbar-cinzento, castóreo\",\n",
        "        \"Ouro em formas brutas\",\n",
        "        \"Elementos químicos radioativos\",\n",
        "        \"Platina em formas brutas\",\n",
        "        \"Binóculos e lunetas astronômicas\",\n",
        "        \"Elementos químicos radioativos\",\n",
        "        \"Platina em formas brutas\",\n",
        "        \"Helicópteros e drones\",\n",
        "        \"Platina em formas brutas\",\n",
        "        \"Circuitos integrados eletrônicos\",\n",
        "        \"Produtos de origem animal\",\n",
        "        \"Obras de metais preciosos\"\n",
        "    ],\n",
        "    \"VALOR_AGREGADO\": [\n",
        "        278200.0, 175000.0, 98865.0, 50814.15, 49881.73,\n",
        "        129710.0, 110908.67, 101287.0, 100065.0, 63995.0,\n",
        "        260000.0, 170321.0, 148848.47, 125889.5, 85160.8\n",
        "    ]\n",
        "}\n",
        "\n",
        "df = pd.DataFrame(data)\n",
        "df_principais = df.loc[df.groupby(\"NO_MUN_MIN\")[\"VALOR_AGREGADO\"].idxmax()]  # Filtra o maior valor por município\n"
      ],
      "metadata": {
        "id": "RY5M9n_YvIK-"
      },
      "id": "RY5M9n_YvIK-",
      "execution_count": null,
      "outputs": []
    },
    {
      "cell_type": "code",
      "source": [
        "geolocator = Nominatim(user_agent=\"mapa_sp\")\n",
        "geocode = RateLimiter(geolocator.geocode, min_delay_seconds=1)  # Evita bloqueio por excesso de requisições"
      ],
      "metadata": {
        "id": "cpbXI-__upCD"
      },
      "id": "cpbXI-__upCD",
      "execution_count": null,
      "outputs": []
    },
    {
      "cell_type": "code",
      "source": [
        "# Cria o mapa centrado em SP\n",
        "mapa_sp = folium.Map(location=[-23.5505, -46.6333], zoom_start=8)\n",
        "\n",
        "# Adiciona marcadores para cada município\n",
        "for idx, row in df_principais.iterrows():\n",
        "    municipio = f\"{row['NO_MUN_MIN']}, São Paulo, Brasil\"\n",
        "    try:\n",
        "        location = geocode(municipio)\n",
        "        if location:\n",
        "            popup_text = f\"\"\"\n",
        "            Município: {row['NO_MUN_MIN']}\n",
        "            Principal Fornecedor: {row['NO_SH4_POR']}\n",
        "            Valor Agregado: R${row['VALOR_AGREGADO']:,.2f}\n",
        "            \"\"\"\n",
        "            folium.Marker(\n",
        "                [location.latitude, location.longitude],\n",
        "                popup=folium.Popup(popup_text, max_width=300),\n",
        "                tooltip=row[\"NO_MUN_MIN\"],\n",
        "                icon=folium.Icon(color=\"blue\", icon=\"info-sign\")\n",
        "            ).add_to(mapa_sp)\n",
        "        else:\n",
        "            print(f\"Não foi possível geocodificar: {municipio}\")\n",
        "    except Exception as e:\n",
        "        print(f\"Erro em {municipio}: {str(e)}\")"
      ],
      "metadata": {
        "id": "LQxeFL76uuNO"
      },
      "id": "LQxeFL76uuNO",
      "execution_count": null,
      "outputs": []
    },
    {
      "cell_type": "code",
      "source": [
        "mapa_sp.save(\"mapa_municipios.html\")"
      ],
      "metadata": {
        "id": "mvxs1n56vTyZ"
      },
      "id": "mvxs1n56vTyZ",
      "execution_count": null,
      "outputs": []
    },
    {
      "cell_type": "code",
      "source": [
        "display(mapa_sp)"
      ],
      "metadata": {
        "id": "dEnyiqGcvYb6"
      },
      "id": "dEnyiqGcvYb6",
      "execution_count": null,
      "outputs": []
    },
    {
      "cell_type": "code",
      "source": [
        "#Download do arquivo\n",
        "\n",
        "#from google.colab import files\n",
        "#files.download('mapa_municipios.html')"
      ],
      "metadata": {
        "id": "5PI_mKkGvejG"
      },
      "id": "5PI_mKkGvejG",
      "execution_count": null,
      "outputs": []
    }
  ],
  "metadata": {
    "language_info": {
      "name": "python"
    },
    "colab": {
      "provenance": [],
      "include_colab_link": true
    },
    "kernelspec": {
      "name": "python3",
      "display_name": "Python 3"
    }
  },
  "nbformat": 4,
  "nbformat_minor": 5
}