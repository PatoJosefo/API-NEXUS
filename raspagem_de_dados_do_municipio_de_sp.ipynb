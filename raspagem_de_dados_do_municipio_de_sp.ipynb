{
  "nbformat": 4,
  "nbformat_minor": 0,
  "metadata": {
    "colab": {
      "provenance": [],
      "include_colab_link": true
    },
    "kernelspec": {
      "name": "python3",
      "display_name": "Python 3"
    },
    "language_info": {
      "name": "python"
    }
  },
  "cells": [
    {
      "cell_type": "markdown",
      "metadata": {
        "id": "view-in-github",
        "colab_type": "text"
      },
      "source": [
        "<a href=\"https://colab.research.google.com/github/mariaflbss/API-NEXUS/blob/main/raspagem_de_dados_do_municipio_de_sp.ipynb\" target=\"_parent\"><img src=\"https://colab.research.google.com/assets/colab-badge.svg\" alt=\"Open In Colab\"/></a>"
      ]
    },
    {
      "cell_type": "code",
      "execution_count": null,
      "metadata": {
        "id": "eWUyXMJe8tFW",
        "colab": {
          "base_uri": "https://localhost:8080/"
        },
        "outputId": "a87c4402-7453-48a1-8325-551bf53f405c"
      },
      "outputs": [
        {
          "output_type": "stream",
          "name": "stdout",
          "text": [
            "Drive already mounted at /content/drive; to attempt to forcibly remount, call drive.mount(\"/content/drive\", force_remount=True).\n",
            "/content/drive/.shortcut-targets-by-id/1ovFyFw1g-JDcDBdhCVd9BP9B1-jmPEtE/API1S\n"
          ]
        }
      ],
      "source": [
        "from google.colab import drive\n",
        "import pandas as pd\n",
        "drive.mount('/content/drive')\n",
        "%cd \"/content/drive/MyDrive/Colab Notebooks/API1S\""
      ]
    },
    {
      "cell_type": "code",
      "source": [
        "ano = 2019\n",
        "lista_arquivos = []\n",
        "while ano <= 2024:\n",
        "  df = pd.read_csv(f\"EXP_{ano}_MUN.csv\", sep=\";\", encoding=\"latin1\",on_bad_lines = \"skip\", usecols='''CO_MES SH4 CO_PAIS SG_UF_MUN CO_MUN KG_LIQUIDO VL_FOB'''.split())\n",
        "  lista_arquivos.append(df)\n",
        "  ano += 1\n",
        "for a in lista_arquivos:\n",
        "  df[\"VALOR_AGREGADO\"] = df[\"VL_FOB\"] / df[\"KG_LIQUIDO\"]\n",
        "\n",
        "  df = df[df[\"KG_LIQUIDO\"] > 0]\n",
        "\n",
        "  carga_mun = df.groupby([\"CO_MUN\", \"SG_UF_MUN\", \"SH4\"])['VALOR_AGREGADO'].mean().reset_index()\n",
        "\n",
        "  carga_mun = carga_mun[carga_mun[\"SG_UF_MUN\"] == \"SP\"]\n",
        "  top5 = carga_mun.sort_values(by=\"VALOR_AGREGADO\", ascending=False).head(5)\n",
        "  #3449904\n",
        "  print(top5)\n"
      ],
      "metadata": {
        "id": "wFFKs00urXg0",
        "colab": {
          "base_uri": "https://localhost:8080/"
        },
        "outputId": "a0dc053d-78e5-49b2-e97e-9710d95f507b"
      },
      "execution_count": 5,
      "outputs": [
        {
          "output_type": "stream",
          "name": "stdout",
          "text": [
            "        CO_MUN SG_UF_MUN   SH4  VALOR_AGREGADO\n",
            "36189  3439202        SP   510   226371.750000\n",
            "42338  3450605        SP  8409   193207.333333\n",
            "41479  3450308        SP  2716   178894.634951\n",
            "21763  3405500        SP   510   165547.574187\n",
            "42368  3450605        SP  9014   146504.683333\n",
            "        CO_MUN SG_UF_MUN   SH4  VALOR_AGREGADO\n",
            "36189  3439202        SP   510   226371.750000\n",
            "42338  3450605        SP  8409   193207.333333\n",
            "41479  3450308        SP  2716   178894.634951\n",
            "21763  3405500        SP   510   165547.574187\n",
            "42368  3450605        SP  9014   146504.683333\n"
          ]
        },
        {
          "output_type": "stream",
          "name": "stderr",
          "text": [
            "<ipython-input-5-c7b140bcdd45>:8: SettingWithCopyWarning: \n",
            "A value is trying to be set on a copy of a slice from a DataFrame.\n",
            "Try using .loc[row_indexer,col_indexer] = value instead\n",
            "\n",
            "See the caveats in the documentation: https://pandas.pydata.org/pandas-docs/stable/user_guide/indexing.html#returning-a-view-versus-a-copy\n",
            "  df[\"VALOR_AGREGADO\"] = df[\"VL_FOB\"] / df[\"KG_LIQUIDO\"]\n"
          ]
        },
        {
          "output_type": "stream",
          "name": "stdout",
          "text": [
            "        CO_MUN SG_UF_MUN   SH4  VALOR_AGREGADO\n",
            "36189  3439202        SP   510   226371.750000\n",
            "42338  3450605        SP  8409   193207.333333\n",
            "41479  3450308        SP  2716   178894.634951\n",
            "21763  3405500        SP   510   165547.574187\n",
            "42368  3450605        SP  9014   146504.683333\n",
            "        CO_MUN SG_UF_MUN   SH4  VALOR_AGREGADO\n",
            "36189  3439202        SP   510   226371.750000\n",
            "42338  3450605        SP  8409   193207.333333\n",
            "41479  3450308        SP  2716   178894.634951\n",
            "21763  3405500        SP   510   165547.574187\n",
            "42368  3450605        SP  9014   146504.683333\n",
            "        CO_MUN SG_UF_MUN   SH4  VALOR_AGREGADO\n",
            "36189  3439202        SP   510   226371.750000\n",
            "42338  3450605        SP  8409   193207.333333\n",
            "41479  3450308        SP  2716   178894.634951\n",
            "21763  3405500        SP   510   165547.574187\n",
            "42368  3450605        SP  9014   146504.683333\n",
            "        CO_MUN SG_UF_MUN   SH4  VALOR_AGREGADO\n",
            "36189  3439202        SP   510   226371.750000\n",
            "42338  3450605        SP  8409   193207.333333\n",
            "41479  3450308        SP  2716   178894.634951\n",
            "21763  3405500        SP   510   165547.574187\n",
            "42368  3450605        SP  9014   146504.683333\n"
          ]
        }
      ]
    },
    {
      "cell_type": "code",
      "source": [],
      "metadata": {
        "id": "86QKEcPwWEQ0"
      },
      "execution_count": null,
      "outputs": []
    }
  ]
}