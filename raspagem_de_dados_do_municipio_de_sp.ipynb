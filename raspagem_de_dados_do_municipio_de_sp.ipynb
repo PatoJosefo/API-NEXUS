{
  "nbformat": 4,
  "nbformat_minor": 0,
  "metadata": {
    "colab": {
      "provenance": [],
      "include_colab_link": true
    },
    "kernelspec": {
      "name": "python3",
      "display_name": "Python 3"
    },
    "language_info": {
      "name": "python"
    }
  },
  "cells": [
    {
      "cell_type": "markdown",
      "metadata": {
        "id": "view-in-github",
        "colab_type": "text"
      },
      "source": [
        "<a href=\"https://colab.research.google.com/github/talitamarques30/API-NEXUS/blob/main/raspagem_de_dados_do_municipio_de_sp.ipynb\" target=\"_parent\"><img src=\"https://colab.research.google.com/assets/colab-badge.svg\" alt=\"Open In Colab\"/></a>"
      ]
    },
    {
      "cell_type": "code",
      "execution_count": 1,
      "metadata": {
        "id": "eWUyXMJe8tFW"
      },
      "outputs": [],
      "source": [
        "#importação das bibliotecas\n",
        "from google.colab import drive\n",
        "import pandas as pd"
      ]
    },
    {
      "cell_type": "code",
      "source": [
        "#Mount no Gdrive do diretório onde estarão os arquivos e a base de dados\n",
        "#Precisa ser executado apenas uma vez. Caso já tenha feito essa linha não precisa ser executada novamente\n",
        "drive.mount('/content/drive')"
      ],
      "metadata": {
        "id": "VYPulIAYJI8n"
      },
      "execution_count": null,
      "outputs": []
    },
    {
      "cell_type": "code",
      "source": [
        "#cd muda o diretório de trabalho para a pasta onde a base de dados se  encontra\n",
        "#É necessário criar um atalho com a pasta do projeto no Drive para o diretório especificado durante o Mount\n",
        "%cd \"/content/drive/MyDrive/Colab Notebooks/API1S\""
      ],
      "metadata": {
        "id": "iiIymgCQJR_A"
      },
      "execution_count": null,
      "outputs": []
    },
    {
      "cell_type": "code",
      "source": [
        "#declaração de variáveis usadas num looping para que não seja necessário ler os arquivos .csv um a um\n",
        "#a cada iteração do while o nome do arquivo muda para o ano seguinte(de 2019 a 2014) e o .csv é adicionado a lista_arquivos\n",
        "ano = 2019\n",
        "lista_arquivos = []\n",
        "\n",
        "while ano <= 2024:\n",
        "  df = pd.read_csv(f\"EXP_{ano}_MUN.csv\", sep=\";\", encoding=\"latin1\",on_bad_lines = \"skip\", usecols='''CO_MES SH4 CO_PAIS SG_UF_MUN CO_MUN KG_LIQUIDO VL_FOB'''.split())\n",
        "  lista_arquivos.append(df)\n",
        "  ano += 1\n",
        "\n",
        "#for percorre a lista de arquivos e cria uma nova coluna \"VALOR AGREGADO\" que recebe o resultado da conta para valor agregado\n",
        "# > 0 evita que haja divisão por 0\n",
        "#carga_num agrupa 3 colunas de acordo com o valor agregado e calcula a média\n",
        "# == \"SP\" faz com que apenas o estado de SP seja analizado\n",
        "#top5 sorteia os 5 maiores valores agregados de carga_num\n",
        "\n",
        "for a in lista_arquivos:\n",
        "  df[\"VALOR_AGREGADO\"] = df[\"VL_FOB\"] / df[\"KG_LIQUIDO\"]\n",
        "\n",
        "  df = df[df[\"KG_LIQUIDO\"] > 0]\n",
        "\n",
        "  carga_mun = df.groupby([\"CO_MUN\", \"SG_UF_MUN\", \"SH4\"])['VALOR_AGREGADO'].mean().reset_index()\n",
        "\n",
        "  carga_mun = carga_mun[carga_mun[\"SG_UF_MUN\"] == \"SP\"]\n",
        "\n",
        "  top5 = carga_mun.sort_values(by=\"VALOR_AGREGADO\", ascending=False).head(5)\n",
        "  print(top5)\n",
        "\n"
      ],
      "metadata": {
        "id": "wFFKs00urXg0",
        "colab": {
          "base_uri": "https://localhost:8080/"
        },
        "outputId": "40a89904-7d15-492a-9ed4-7cde922e2de8"
      },
      "execution_count": 3,
      "outputs": [
        {
          "output_type": "stream",
          "name": "stdout",
          "text": [
            "        CO_MUN SG_UF_MUN   SH4  VALOR_AGREGADO\n",
            "36189  3439202        SP   510   226371.750000\n",
            "42338  3450605        SP  8409   193207.333333\n",
            "41479  3450308        SP  2716   178894.634951\n",
            "21763  3405500        SP   510   165547.574187\n",
            "42368  3450605        SP  9014   146504.683333\n"
          ]
        },
        {
          "output_type": "stream",
          "name": "stderr",
          "text": [
            "<ipython-input-3-1de2d96dd0de>:18: SettingWithCopyWarning: \n",
            "A value is trying to be set on a copy of a slice from a DataFrame.\n",
            "Try using .loc[row_indexer,col_indexer] = value instead\n",
            "\n",
            "See the caveats in the documentation: https://pandas.pydata.org/pandas-docs/stable/user_guide/indexing.html#returning-a-view-versus-a-copy\n",
            "  df[\"VALOR_AGREGADO\"] = df[\"VL_FOB\"] / df[\"KG_LIQUIDO\"]\n"
          ]
        },
        {
          "output_type": "stream",
          "name": "stdout",
          "text": [
            "        CO_MUN SG_UF_MUN   SH4  VALOR_AGREGADO\n",
            "36189  3439202        SP   510   226371.750000\n",
            "42338  3450605        SP  8409   193207.333333\n",
            "41479  3450308        SP  2716   178894.634951\n",
            "21763  3405500        SP   510   165547.574187\n",
            "42368  3450605        SP  9014   146504.683333\n",
            "        CO_MUN SG_UF_MUN   SH4  VALOR_AGREGADO\n",
            "36189  3439202        SP   510   226371.750000\n",
            "42338  3450605        SP  8409   193207.333333\n",
            "41479  3450308        SP  2716   178894.634951\n",
            "21763  3405500        SP   510   165547.574187\n",
            "42368  3450605        SP  9014   146504.683333\n",
            "        CO_MUN SG_UF_MUN   SH4  VALOR_AGREGADO\n",
            "36189  3439202        SP   510   226371.750000\n",
            "42338  3450605        SP  8409   193207.333333\n",
            "41479  3450308        SP  2716   178894.634951\n",
            "21763  3405500        SP   510   165547.574187\n",
            "42368  3450605        SP  9014   146504.683333\n",
            "        CO_MUN SG_UF_MUN   SH4  VALOR_AGREGADO\n",
            "36189  3439202        SP   510   226371.750000\n",
            "42338  3450605        SP  8409   193207.333333\n",
            "41479  3450308        SP  2716   178894.634951\n",
            "21763  3405500        SP   510   165547.574187\n",
            "42368  3450605        SP  9014   146504.683333\n",
            "        CO_MUN SG_UF_MUN   SH4  VALOR_AGREGADO\n",
            "36189  3439202        SP   510   226371.750000\n",
            "42338  3450605        SP  8409   193207.333333\n",
            "41479  3450308        SP  2716   178894.634951\n",
            "21763  3405500        SP   510   165547.574187\n",
            "42368  3450605        SP  9014   146504.683333\n"
          ]
        }
      ]
    },
    {
      "cell_type": "code",
      "source": [],
      "metadata": {
        "id": "86QKEcPwWEQ0"
      },
      "execution_count": null,
      "outputs": []
    }
  ]
}