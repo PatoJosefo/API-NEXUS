{
  "nbformat": 4,
  "nbformat_minor": 0,
  "metadata": {
    "colab": {
      "provenance": [],
      "authorship_tag": "ABX9TyN1H490f5eyecr3FTpFSvwa",
      "include_colab_link": true
    },
    "kernelspec": {
      "name": "python3",
      "display_name": "Python 3"
    },
    "language_info": {
      "name": "python"
    }
  },
  "cells": [
    {
      "cell_type": "markdown",
      "metadata": {
        "id": "view-in-github",
        "colab_type": "text"
      },
      "source": [
        "<a href=\"https://colab.research.google.com/github/PatoJosefo/API-NEXUS/blob/main/filtro_cargas_por_NCM.ipynb\" target=\"_parent\"><img src=\"https://colab.research.google.com/assets/colab-badge.svg\" alt=\"Open In Colab\"/></a>"
      ]
    },
    {
      "cell_type": "code",
      "execution_count": null,
      "metadata": {
        "id": "Foki0F8zZS_R"
      },
      "outputs": [],
      "source": [
        "from google.colab import drive\n",
        "import pandas as pd\n",
        "import matplotlib.pyplot as plt\n",
        "import ipywidgets as widgets\n",
        "from IPython.display import display, clear_output"
      ]
    },
    {
      "cell_type": "code",
      "source": [
        "drive.mount('/content/drive')\n",
        "%cd \"/content/drive/MyDrive/Colab Notebooks/API1S/base_dados_por_NCM\""
      ],
      "metadata": {
        "id": "y8LsXK21ZsL1"
      },
      "execution_count": null,
      "outputs": []
    },
    {
      "cell_type": "code",
      "source": [
        "df_ncm = pd.read_csv(\"NCM.csv\", sep=\";\", encoding=\"latin1\", on_bad_lines=\"skip\", usecols=\"CO_NCM NO_NCM_POR\".split())\n",
        "df_via = pd.read_csv(\"VIA.csv\", sep=\";\", encoding=\"latin1\", on_bad_lines=\"skip\", usecols=\"CO_VIA NO_VIA\".split())\n",
        "df_pais = pd.read_csv(\"PAIS.csv\", sep=\";\", encoding=\"latin1\", on_bad_lines=\"skip\", usecols=\"CO_PAIS NO_PAIS\".split())\n",
        "\n",
        "arquivos_ncm_exp = []\n",
        "arquivos_ncm_imp = []\n",
        "\n",
        "for ano in range(2019, 2026):\n",
        "    colunas = [\"CO_NCM\", \"SG_UF_NCM\", \"CO_VIA\", \"KG_LIQUIDO\", \"VL_FOB\", \"CO_MES\", \"CO_PAIS\"]\n",
        "\n",
        "    df_exp = pd.read_csv(f\"EXP_{ano}.csv\", sep=\";\", encoding=\"latin1\", on_bad_lines=\"skip\", usecols=colunas)\n",
        "    df_exp = df_exp[df_exp['SG_UF_NCM'] == 'SP']\n",
        "    df_exp = pd.merge(df_exp, df_ncm, on=\"CO_NCM\", how=\"left\")\n",
        "    df_exp = pd.merge(df_exp, df_via, on=\"CO_VIA\", how=\"left\")\n",
        "    df_exp = pd.merge(df_exp, df_pais, on=\"CO_PAIS\", how=\"left\")\n",
        "    arquivos_ncm_exp.append(df_exp)\n",
        "\n",
        "    df_imp = pd.read_csv(f\"IMP_{ano}.csv\", sep=\";\", encoding=\"latin1\", on_bad_lines=\"skip\", usecols=colunas)\n",
        "    df_imp = df_imp[df_imp['SG_UF_NCM'] == 'SP']\n",
        "    df_imp = pd.merge(df_imp, df_ncm, on=\"CO_NCM\", how=\"left\")\n",
        "    df_imp = pd.merge(df_imp, df_via, on=\"CO_VIA\", how=\"left\")\n",
        "    df_imp = pd.merge(df_imp, df_pais, on=\"CO_PAIS\", how=\"left\")\n",
        "    arquivos_ncm_imp.append(df_imp)\n"
      ],
      "metadata": {
        "id": "VOCVzH0hLN6p"
      },
      "execution_count": null,
      "outputs": []
    },
    {
      "cell_type": "code",
      "source": [
        "def formatar_valor_reais(valor_reais):\n",
        "  if valor_reais >= 1_000_000_000:\n",
        "    return f\"R$ {valor_reais / 1_000_000_000:.2f} bi\"\n",
        "  elif valor_reais >= 1_000_000:\n",
        "    return f\"R$ {valor_reais / 1_000_000:.2f} mi\"\n",
        "  elif valor_reais >= 1_000:\n",
        "    return f\"R$ {valor_reais / 1_000:.2f} mil\"\n",
        "  else:\n",
        "    return f\"R$ {valor_reais:.2f}\""
      ],
      "metadata": {
        "id": "uaLn6vQyJcT_"
      },
      "execution_count": null,
      "outputs": []
    },
    {
      "cell_type": "code",
      "source": [
        "print('\\nCampos obrigatórios: \\n')\n",
        "\n",
        "ncm_input = widgets.IntText(description=\"Código NCM:\")\n",
        "\n",
        "anos_dropdown = widgets.Dropdown(\n",
        "    options=[2019, 2020, 2021, 2022, 2023, 2024, 2025],\n",
        "    value=2019,\n",
        "    description='Ano:'\n",
        ")\n",
        "\n",
        "atividade_dropdown = widgets.Dropdown(\n",
        "    options=['Exportação', 'Importação'],\n",
        "    value='Exportação',\n",
        "    description='Atividade:'\n",
        ")\n",
        "\n",
        "tipo_dropdown = widgets.Dropdown(\n",
        "    options=['FOB', 'Valor Agregado', 'KG líquido'],\n",
        "    value='FOB',\n",
        "    description='Tipo:'\n",
        ")\n",
        "display(ncm_input,anos_dropdown, atividade_dropdown, tipo_dropdown)\n",
        "\n",
        "print('\\nCampos opcionais: \\n')\n",
        "\n",
        "via_dropdown = widgets.Dropdown(\n",
        "    options=[('Todos', None), ('Entrada/saída Ficta',10), ('Marítima',1), ('Fluvial',2), ('Lacustre',3),\n",
        "             ('Aérea',4), ('Postal',5), ('Ferroviária',6), ('Rodoviária',7), ('Conduto/Rede de Transmissão',8),\n",
        "             ('Meios próprios',9), ('Reboque',13), ('Courier',11), ('Vicinal Fronteiriço',15), ('Dutos',14),\n",
        "             ('Em mãos',12), ('Via não declarada', 0), ('Via desconhecida',99)],\n",
        "    value=None,\n",
        "    description='Via:'\n",
        ")\n",
        "\n",
        "periodo_dropdown = widgets.Dropdown(\n",
        "    options=['Mensal', 'Semestral'],\n",
        "    value=None,\n",
        "    description='Período:'\n",
        ")\n",
        "pais_dropdown = widgets.Dropdown(\n",
        "    options=[(row['NO_PAIS'], row['CO_PAIS']) for _, row in df_pais.iterrows()],\n",
        "    value=None,\n",
        "    description='País:'\n",
        ")\n",
        "def atualizar_pais(mudar):\n",
        "  global pais_selecionado\n",
        "  global co_pais_selecionado\n",
        "  if pais_dropdown.value is not None:\n",
        "      pais_selecionado = df_pais[df_pais['CO_PAIS'] == pais_dropdown.value]['NO_PAIS'].values[0]\n",
        "      co_pais_selecionado = pais_dropdown.value\n",
        "  else:\n",
        "      pais_selecionado = None\n",
        "      co_pais_selecionado = None\n",
        "\n",
        "pais_dropdown.observe(atualizar_pais, names='value')\n",
        "\n",
        "display(periodo_dropdown, via_dropdown, pais_dropdown)\n",
        "\n",
        "periodo_sem = widgets.Dropdown(\n",
        "    options=['Janeiro-Junho', 'Julho-Dezembro'],\n",
        "    value='Janeiro-Junho',\n",
        "    description='Semestre:'\n",
        ")\n",
        "\n",
        "meses = widgets.Dropdown(\n",
        "    options=[('Janeiro',1),('Fevereiro',2),('Março',3), ('Abril',4), ('Maio',5), ('Junho',6),('Julho',7), ('Agosto',8),\n",
        "             ('Setembro',9), ('Outubro',10), ('Novembro',11), ('Dezembro',12)],\n",
        "    value=1,\n",
        "    description='Mês:'\n",
        ")\n",
        "output = widgets.Output()"
      ],
      "metadata": {
        "id": "C5A_nBEB0XUj"
      },
      "execution_count": null,
      "outputs": []
    },
    {
      "cell_type": "code",
      "source": [
        "def atualizar_periodo(_):\n",
        "  with output:\n",
        "    clear_output()\n",
        "    if periodo_dropdown.value == 'Semestral':\n",
        "      display(periodo_sem)\n",
        "    elif periodo_dropdown.value == 'Mensal':\n",
        "      display(meses)\n",
        "\n",
        "periodo_dropdown.observe(atualizar_periodo, names='value')\n",
        "\n",
        "display(output)\n",
        "atualizar_periodo(None)"
      ],
      "metadata": {
        "id": "2JtZg7_r0kev"
      },
      "execution_count": null,
      "outputs": []
    },
    {
      "cell_type": "code",
      "source": [
        "def realizar_analise(_):\n",
        "  ano_selecionado = anos_dropdown.value\n",
        "  atividade_selecionada = atividade_dropdown.value\n",
        "  tipo_selecionado = tipo_dropdown.value\n",
        "  cod_ncm = ncm_input.value\n",
        "\n",
        "  indice = df_ncm[df_ncm['CO_NCM'] == cod_ncm].index[0]\n",
        "  ncm_nome = df_ncm.loc[indice, 'NO_NCM_POR']\n",
        "\n",
        "  cod_via = via_dropdown.value\n",
        "  via_nome = next((n for n, v in via_dropdown.options if v == cod_via), \"Todos\")\n",
        "\n",
        "  periodo = periodo_dropdown.value\n",
        "  sem_selecionado = periodo_sem.value if periodo == 'Semestral' else None\n",
        "  cod_mes = meses.value if periodo == 'Mensal' else None\n",
        "  co_pais_filtro = co_pais_selecionado if pais_dropdown.value is not None else None\n",
        "  mes_selecionado = dict(meses.options).get(cod_mes, None)\n",
        "  periodo_selecionado = sem_selecionado if periodo == 'Semestral' else mes_selecionado\n",
        "\n",
        "  indice = ano_selecionado - 2019\n",
        "  arquivo_selecionado = arquivos_ncm_imp[indice] if atividade_selecionada == \"Importação\" else arquivos_ncm_exp[indice]\n",
        "\n",
        "  base_filtro = arquivo_selecionado[arquivo_selecionado['CO_NCM'] == cod_ncm]\n",
        "\n",
        "  if cod_via is not None:\n",
        "    base_filtro = base_filtro[base_filtro['CO_VIA'] == cod_via]\n",
        "\n",
        "  if periodo == \"Mensal\" and cod_mes is not None:\n",
        "    base_filtro = base_filtro[base_filtro['CO_MES'] == cod_mes]\n",
        "  elif periodo == \"Semestral\" and sem_selecionado is not None:\n",
        "    codigo_sem = {'Janeiro-Junho': 1, 'Julho-Dezembro': 2}\n",
        "    lista_sem = list(range(1, 7)) if codigo_sem[sem_selecionado] == 1 else list(range(7, 13))\n",
        "    base_filtro = base_filtro[base_filtro['CO_MES'].isin(lista_sem)]\n",
        "  if co_pais_filtro is not None:\n",
        "      base_filtro = base_filtro[base_filtro['CO_PAIS'] == co_pais_filtro]\n",
        "\n",
        "  match tipo_selecionado:\n",
        "    case \"FOB\":\n",
        "      soma_fob = base_filtro['VL_FOB'].sum()\n",
        "      print(f'\\nMercadoria: {ncm_nome}\\n')\n",
        "      print(f\"Soma de FOB para o NCM {cod_ncm}: {formatar_valor_reais(soma_fob)}\\nVia: {via_nome}\\nPeríodo: {periodo_selecionado or 'Todos'}\\nPaís: {pais_selecionado}\\nAno: {ano_selecionado}\")\n",
        "    case \"Valor Agregado\":\n",
        "      print(f'\\nMercadoria: {ncm_nome}\\n')\n",
        "      base_filtro = base_filtro[base_filtro[\"KG_LIQUIDO\"] > 0]\n",
        "      base_filtro['VALOR_AGREGADO'] = base_filtro['VL_FOB'] / base_filtro['KG_LIQUIDO']\n",
        "      soma_va = base_filtro['VALOR_AGREGADO'].sum()\n",
        "      print(f\"Soma de Valor Agregado para o NCM {cod_ncm}: {formatar_valor_reais(soma_va)}\\nVia: {via_nome}\\nPeríodo: {periodo_selecionado or 'Todos'}\\nPaís: {pais_selecionado}\\nAno: {ano_selecionado}\")\n",
        "    case \"KG líquido\":\n",
        "      print(f'\\nMercadoria: {ncm_nome}\\n')\n",
        "      soma_kgl = base_filtro['KG_LIQUIDO'].sum()\n",
        "      print(f\"Soma de KG Líquido para o NCM {cod_ncm}: {soma_kgl}kg\\nVia: {via_nome}\\nPeríodo: {periodo_selecionado or 'Todos'}\\nPaís: {pais_selecionado}\\nAno: {ano_selecionado}\")\n",
        "\n",
        "button = widgets.Button(description=\"Realizar Análise\")\n",
        "button.on_click(realizar_analise)\n",
        "display(button)"
      ],
      "metadata": {
        "id": "PPRvYBgyDhHv"
      },
      "execution_count": null,
      "outputs": []
    }
  ]
}